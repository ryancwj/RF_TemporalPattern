{
 "cells": [
  {
   "cell_type": "code",
   "execution_count": 1,
   "metadata": {},
   "outputs": [],
   "source": [
    "#Timeseries clustering \n",
    "import rpy2.robjects as robjects\n",
    "import numpy as np\n",
    "import pandas as pd\n",
    "import matplotlib.pyplot as plt\n",
    "from mikeio import Dfs0, Dataset\n",
    "from tslearn.utils import to_time_series\n",
    "from tslearn.utils import to_time_series_dataset\n",
    "from tslearn.preprocessing import TimeSeriesScalerMinMax, TimeSeriesScalerMeanVariance, TimeSeriesResampler\n",
    "from tslearn.clustering import TimeSeriesKMeans, silhouette_score"
   ]
  },
  {
   "cell_type": "code",
   "execution_count": null,
   "metadata": {},
   "outputs": [],
   "source": [
    "#Run IETD R script to extract rainfall event or \"complete storms\"\n",
    "r = robjects.r('source(\"C:/Projects/Side_Projects/Monte_Carlo/Script/IETD.r\")')"
   ]
  },
  {
   "cell_type": "code",
   "execution_count": 2,
   "metadata": {},
   "outputs": [
    {
     "data": {
      "text/plain": [
       "70"
      ]
     },
     "execution_count": 2,
     "metadata": {},
     "output_type": "execute_result"
    }
   ],
   "source": [
    "#Import timeseries data \n",
    "df = np.genfromtxt(r\"C:/Projects/Side_Projects/Monte_Carlo/Script/Output/Filtered_Rainfall_Events_ts_input.csv\", delimiter=',')\n",
    "\n",
    "#Delete first index in array\n",
    "df = np.delete(df, 0, axis=0)\n",
    "\n",
    "#Remove all NaN values to create nd.array with varying length\n",
    "row = df.shape[1]\n",
    "df = [[i for i in row if ~np.isnan(i)] for row in df]\n",
    "\n",
    "#Find max storm duration\n",
    "max_sd = len(max(df, key=len))\n",
    "min_sd = len(min(df, key=len))\n",
    "max_sd"
   ]
  },
  {
   "cell_type": "code",
   "execution_count": 3,
   "metadata": {},
   "outputs": [
    {
     "name": "stderr",
     "output_type": "stream",
     "text": [
      "C:\\Users\\rwjc\\AppData\\Local\\Temp/ipykernel_11368/3931009979.py:2: VisibleDeprecationWarning: Creating an ndarray from ragged nested sequences (which is a list-or-tuple of lists-or-tuples-or ndarrays with different lengths or shapes) is deprecated. If you meant to do this, you must specify 'dtype=object' when creating the ndarray.\n",
      "  SD_3_hr = np.array([row for row in df if len(row) <= 3])\n",
      "C:\\Users\\rwjc\\AppData\\Local\\Temp/ipykernel_11368/3931009979.py:3: VisibleDeprecationWarning: Creating an ndarray from ragged nested sequences (which is a list-or-tuple of lists-or-tuples-or ndarrays with different lengths or shapes) is deprecated. If you meant to do this, you must specify 'dtype=object' when creating the ndarray.\n",
      "  SD_6_hr = np.array([row for row in df if 3 <= len(row) <= 6])\n",
      "C:\\Users\\rwjc\\AppData\\Local\\Temp/ipykernel_11368/3931009979.py:4: VisibleDeprecationWarning: Creating an ndarray from ragged nested sequences (which is a list-or-tuple of lists-or-tuples-or ndarrays with different lengths or shapes) is deprecated. If you meant to do this, you must specify 'dtype=object' when creating the ndarray.\n",
      "  SD_12_hr = np.array([row for row in df if 6 <= len(row) <= 12])\n",
      "C:\\Users\\rwjc\\AppData\\Local\\Temp/ipykernel_11368/3931009979.py:5: VisibleDeprecationWarning: Creating an ndarray from ragged nested sequences (which is a list-or-tuple of lists-or-tuples-or ndarrays with different lengths or shapes) is deprecated. If you meant to do this, you must specify 'dtype=object' when creating the ndarray.\n",
      "  SD_24_hr = np.array([row for row in df if 12 <= len(row) <= 24])\n",
      "C:\\Users\\rwjc\\AppData\\Local\\Temp/ipykernel_11368/3931009979.py:6: VisibleDeprecationWarning: Creating an ndarray from ragged nested sequences (which is a list-or-tuple of lists-or-tuples-or ndarrays with different lengths or shapes) is deprecated. If you meant to do this, you must specify 'dtype=object' when creating the ndarray.\n",
      "  SD_48_hr = np.array([row for row in df if 24 <= len(row) <= 48])\n"
     ]
    }
   ],
   "source": [
    "#Filter array based on length (storm duration)\n",
    "SD_3_hr = np.array([row for row in df if len(row) <= 3])\n",
    "SD_6_hr = np.array([row for row in df if 3 <= len(row) <= 6])\n",
    "SD_12_hr = np.array([row for row in df if 6 <= len(row) <= 12])\n",
    "SD_24_hr = np.array([row for row in df if 12 <= len(row) <= 24])\n",
    "SD_48_hr = np.array([row for row in df if 24 <= len(row) <= 48])\n",
    "SD_72_hr = np.array([row for row in df if 48 <= len(row) <= 72])\n",
    "\n",
    "#Select Storm Duration\n",
    "SD = 48\n",
    "\n",
    "if SD == 3:\n",
    "    ts = SD_3_hr\n",
    "elif SD == 6:\n",
    "    ts = SD_6_hr\n",
    "elif SD == 12:\n",
    "    ts = SD_12_hr\n",
    "elif SD == 24:\n",
    "    ts = SD_24_hr\n",
    "elif SD == 48:\n",
    "    ts = SD_48_hr\n",
    "elif SD == 72:\n",
    "    ts = SD_72_hr"
   ]
  },
  {
   "cell_type": "code",
   "execution_count": 4,
   "metadata": {},
   "outputs": [],
   "source": [
    "#Append Nan values for rows shorter than the max array row length\n",
    "row_lengths = []\n",
    "\n",
    "for row in ts:\n",
    "    row_lengths.append(len(row))\n",
    "\n",
    "max_length = max(row_lengths)\n",
    "\n",
    "for row in ts:\n",
    "    while len(row) < max_length:\n",
    "        row.append(np.NaN)\n",
    "\n",
    "#Format input numpy array into \n",
    "X_train = to_time_series_dataset(ts)\n",
    "\n",
    "#Shuffle array to randomize timeseries order\n",
    "np.random.shuffle(X_train)\n",
    "\n",
    "#Scale timeseries\n",
    "X_train = TimeSeriesScalerMinMax().fit_transform(X_train)\n",
    "\n",
    "#Generate seed\n",
    "seed = 0\n",
    "np.random.seed(seed)"
   ]
  },
  {
   "cell_type": "code",
   "execution_count": 6,
   "metadata": {},
   "outputs": [
    {
     "name": "stdout",
     "output_type": "stream",
     "text": [
      "DBA k-means\n",
      "Init 1\n"
     ]
    },
    {
     "name": "stderr",
     "output_type": "stream",
     "text": [
      "[Parallel(n_jobs=4)]: Using backend ThreadingBackend with 4 concurrent workers.\n",
      "[Parallel(n_jobs=4)]: Done  42 tasks      | elapsed:    0.6s\n",
      "[Parallel(n_jobs=4)]: Done 160 out of 160 | elapsed:    0.6s finished\n",
      "[Parallel(n_jobs=4)]: Using backend ThreadingBackend with 4 concurrent workers.\n",
      "[Parallel(n_jobs=4)]: Done  42 tasks      | elapsed:    0.4s\n",
      "[Parallel(n_jobs=4)]: Done 192 tasks      | elapsed:    0.5s\n",
      "[Parallel(n_jobs=4)]: Done 442 tasks      | elapsed:    0.7s\n",
      "[Parallel(n_jobs=4)]: Done 480 out of 480 | elapsed:    0.7s finished\n",
      "[Parallel(n_jobs=4)]: Using backend ThreadingBackend with 4 concurrent workers.\n",
      "[Parallel(n_jobs=4)]: Done  42 tasks      | elapsed:    0.2s\n",
      "[Parallel(n_jobs=4)]: Done 192 tasks      | elapsed:    0.3s\n",
      "[Parallel(n_jobs=4)]: Done 442 tasks      | elapsed:    0.5s\n",
      "[Parallel(n_jobs=4)]: Done 480 out of 480 | elapsed:    0.5s finished\n",
      "[Parallel(n_jobs=4)]: Using backend ThreadingBackend with 4 concurrent workers.\n",
      "[Parallel(n_jobs=4)]: Done  42 tasks      | elapsed:    0.0s\n",
      "[Parallel(n_jobs=4)]: Done 192 tasks      | elapsed:    0.0s\n",
      "[Parallel(n_jobs=4)]: Done 442 tasks      | elapsed:    0.2s\n",
      "[Parallel(n_jobs=4)]: Done 480 out of 480 | elapsed:    0.2s finished\n"
     ]
    },
    {
     "name": "stdout",
     "output_type": "stream",
     "text": [
      "0.444 --> "
     ]
    },
    {
     "name": "stderr",
     "output_type": "stream",
     "text": [
      "[Parallel(n_jobs=4)]: Using backend ThreadingBackend with 4 concurrent workers.\n",
      "[Parallel(n_jobs=4)]: Done  42 tasks      | elapsed:    0.0s\n",
      "[Parallel(n_jobs=4)]: Done 192 tasks      | elapsed:    0.0s\n",
      "[Parallel(n_jobs=4)]: Done 442 tasks      | elapsed:    0.1s\n",
      "[Parallel(n_jobs=4)]: Done 480 out of 480 | elapsed:    0.1s finished\n"
     ]
    },
    {
     "name": "stdout",
     "output_type": "stream",
     "text": [
      "0.294 --> "
     ]
    },
    {
     "name": "stderr",
     "output_type": "stream",
     "text": [
      "[Parallel(n_jobs=4)]: Using backend ThreadingBackend with 4 concurrent workers.\n",
      "[Parallel(n_jobs=4)]: Done  42 tasks      | elapsed:    0.0s\n",
      "[Parallel(n_jobs=4)]: Done 192 tasks      | elapsed:    0.0s\n",
      "[Parallel(n_jobs=4)]: Done 442 tasks      | elapsed:    0.1s\n",
      "[Parallel(n_jobs=4)]: Done 480 out of 480 | elapsed:    0.1s finished\n",
      "[Parallel(n_jobs=4)]: Using backend ThreadingBackend with 4 concurrent workers.\n",
      "[Parallel(n_jobs=4)]: Done  42 tasks      | elapsed:    0.0s\n"
     ]
    },
    {
     "name": "stdout",
     "output_type": "stream",
     "text": [
      "0.294 --> \n",
      "Init 2\n"
     ]
    },
    {
     "name": "stderr",
     "output_type": "stream",
     "text": [
      "[Parallel(n_jobs=4)]: Done 160 out of 160 | elapsed:    0.0s finished\n",
      "[Parallel(n_jobs=4)]: Using backend ThreadingBackend with 4 concurrent workers.\n",
      "[Parallel(n_jobs=4)]: Done  42 tasks      | elapsed:    0.0s\n",
      "[Parallel(n_jobs=4)]: Done 192 tasks      | elapsed:    0.0s\n",
      "[Parallel(n_jobs=4)]: Done 442 tasks      | elapsed:    0.1s\n",
      "[Parallel(n_jobs=4)]: Done 480 out of 480 | elapsed:    0.1s finished\n",
      "[Parallel(n_jobs=4)]: Using backend ThreadingBackend with 4 concurrent workers.\n",
      "[Parallel(n_jobs=4)]: Done  42 tasks      | elapsed:    0.0s\n",
      "[Parallel(n_jobs=4)]: Done 192 tasks      | elapsed:    0.0s\n",
      "[Parallel(n_jobs=4)]: Done 442 tasks      | elapsed:    0.1s\n",
      "[Parallel(n_jobs=4)]: Done 480 out of 480 | elapsed:    0.1s finished\n",
      "[Parallel(n_jobs=4)]: Using backend ThreadingBackend with 4 concurrent workers.\n",
      "[Parallel(n_jobs=4)]: Done  42 tasks      | elapsed:    0.0s\n",
      "[Parallel(n_jobs=4)]: Done 192 tasks      | elapsed:    0.0s\n",
      "[Parallel(n_jobs=4)]: Done 442 tasks      | elapsed:    0.1s\n",
      "[Parallel(n_jobs=4)]: Done 480 out of 480 | elapsed:    0.1s finished\n"
     ]
    },
    {
     "name": "stdout",
     "output_type": "stream",
     "text": [
      "0.428 --> "
     ]
    },
    {
     "name": "stderr",
     "output_type": "stream",
     "text": [
      "[Parallel(n_jobs=4)]: Using backend ThreadingBackend with 4 concurrent workers.\n",
      "[Parallel(n_jobs=4)]: Done  42 tasks      | elapsed:    0.0s\n",
      "[Parallel(n_jobs=4)]: Done 192 tasks      | elapsed:    0.0s\n",
      "[Parallel(n_jobs=4)]: Done 442 tasks      | elapsed:    0.1s\n",
      "[Parallel(n_jobs=4)]: Done 480 out of 480 | elapsed:    0.1s finished\n"
     ]
    },
    {
     "name": "stdout",
     "output_type": "stream",
     "text": [
      "0.278 --> "
     ]
    },
    {
     "name": "stderr",
     "output_type": "stream",
     "text": [
      "[Parallel(n_jobs=4)]: Using backend ThreadingBackend with 4 concurrent workers.\n",
      "[Parallel(n_jobs=4)]: Done  42 tasks      | elapsed:    0.0s\n",
      "[Parallel(n_jobs=4)]: Done 192 tasks      | elapsed:    0.0s\n",
      "[Parallel(n_jobs=4)]: Done 442 tasks      | elapsed:    0.1s\n",
      "[Parallel(n_jobs=4)]: Done 480 out of 480 | elapsed:    0.1s finished\n",
      "[Parallel(n_jobs=4)]: Using backend ThreadingBackend with 4 concurrent workers.\n",
      "[Parallel(n_jobs=4)]: Done  42 tasks      | elapsed:    0.0s\n",
      "[Parallel(n_jobs=4)]: Done 192 tasks      | elapsed:    0.0s\n"
     ]
    },
    {
     "name": "stdout",
     "output_type": "stream",
     "text": [
      "0.267 --> "
     ]
    },
    {
     "name": "stderr",
     "output_type": "stream",
     "text": [
      "[Parallel(n_jobs=4)]: Done 442 tasks      | elapsed:    0.1s\n",
      "[Parallel(n_jobs=4)]: Done 480 out of 480 | elapsed:    0.1s finished\n",
      "[Parallel(n_jobs=4)]: Using backend ThreadingBackend with 4 concurrent workers.\n",
      "[Parallel(n_jobs=4)]: Done  42 tasks      | elapsed:    0.0s\n",
      "[Parallel(n_jobs=4)]: Done 192 tasks      | elapsed:    0.0s\n"
     ]
    },
    {
     "name": "stdout",
     "output_type": "stream",
     "text": [
      "0.267 --> \n"
     ]
    },
    {
     "name": "stderr",
     "output_type": "stream",
     "text": [
      "[Parallel(n_jobs=4)]: Done 442 tasks      | elapsed:    0.1s\n",
      "[Parallel(n_jobs=4)]: Done 480 out of 480 | elapsed:    0.1s finished\n"
     ]
    },
    {
     "data": {
      "image/png": "[encoded data removed]",
      "text/plain": [
       "<Figure size 432x288 with 3 Axes>"
      ]
     },
     "metadata": {
      "needs_background": "light"
     },
     "output_type": "display_data"
    }
   ],
   "source": [
    "# DBA-k-means\n",
    "print(\"DBA k-means\")\n",
    "dba_km = TimeSeriesKMeans(n_clusters=3,\n",
    "                          n_init=2,\n",
    "                          metric=\"dtw\",\n",
    "                          verbose=True,\n",
    "                          max_iter_barycenter=50,\n",
    "                          random_state=seed,\n",
    "                          n_jobs=4)                     #Change according the CPU threads\n",
    "y_pred = dba_km.fit_predict(X_train)\n",
    "\n",
    "#Calculate Silhouette Score\n",
    "labels = np.random.randint(2, size=len(X_train))\n",
    "silhouette_score = silhouette_score(X_train, labels, metric=\"dtw\")\n",
    "\n",
    "#Plot timeseries clustering results\n",
    "for yi in range(3):\n",
    "    plt.subplot(3, 3, 4 + yi)\n",
    "    for xx in X_train[y_pred == yi]:\n",
    "        plt.plot(xx.ravel(), \"k-\", alpha=.2)\n",
    "    plt.plot(dba_km.cluster_centers_[yi].ravel(), \"r-\")\n",
    "    plt.xlim(0, X_train.shape[1])\n",
    "    plt.ylim(0, 1)\n",
    "    plt.text(0.55, 0.85,'Cluster %d' % (yi + 1),\n",
    "             transform=plt.gca().transAxes)\n",
    "    if yi == 1:\n",
    "        plt.suptitle(\"DBA $k$-means\" + \" \" + str(SD) + \" hr\", y=0.7)\n",
    "        plt.title(\"Silhouette Score = \" + str(float(\"{:.4f}\".format(silhouette_score))))\n",
    "plt.tight_layout()\n",
    "plt.savefig(r\"C:/Projects/Side_Projects/Monte_Carlo/Script/Output/DBA_K-Means_\" + str(SD) + \"hr\"+ \".png\")\n",
    "plt.show()\n",
    "\n",
    "#Export results (unit hyetographs)\n",
    "output_ts = dba_km.cluster_centers_.reshape(dba_km.cluster_centers_.shape[0], -1)\n",
    "output_ts = output_ts.T\n",
    "output_ts = pd.DataFrame(output_ts, columns=[\"Cluster_1\", \"Cluster_2\", \"Cluster_3\"])\n",
    "output_ts.to_csv(r\"C:/Projects/Side_Projects/Monte_Carlo/Script/Output/DBA_K-Means_\" + str(SD) + \"hr_cluster_centers.csv\")"
   ]
  }
 ],
 "metadata": {
  "interpreter": {
   "hash": "f6a5a083afdc6dc3ccabd7138a42aff942d56c3ed2a5e116e675e67791f6e246"
  },
  "kernelspec": {
   "display_name": "Python 3.9.7 64-bit",
   "language": "python",
   "name": "python3"
  },
  "language_info": {
   "codemirror_mode": {
    "name": "ipython",
    "version": 3
   },
   "file_extension": ".py",
   "mimetype": "text/x-python",
   "name": "python",
   "nbconvert_exporter": "python",
   "pygments_lexer": "ipython3",
   "version": "3.9.7"
  },
  "orig_nbformat": 4
 },
 "nbformat": 4,
 "nbformat_minor": 2
}
